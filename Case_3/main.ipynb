{
 "cells": [
  {
   "cell_type": "markdown",
   "id": "736598e3",
   "metadata": {},
   "source": [
    "# Case 3: User KGI 04"
   ]
  },
  {
   "cell_type": "markdown",
   "id": "d3f479a8",
   "metadata": {},
   "source": [
    "## Import Dependencies"
   ]
  },
  {
   "cell_type": "code",
   "execution_count": 1,
   "id": "f53b00c0",
   "metadata": {},
   "outputs": [],
   "source": [
    "import pandas as pd"
   ]
  },
  {
   "cell_type": "markdown",
   "id": "03a35a79",
   "metadata": {},
   "source": [
    "## Data Loading"
   ]
  },
  {
   "cell_type": "code",
   "execution_count": 2,
   "id": "8a58cbdf",
   "metadata": {},
   "outputs": [
    {
     "name": "stdout",
     "output_type": "stream",
     "text": [
      "Dataset loaded successfully!\n"
     ]
    }
   ],
   "source": [
    "PATH = './Dataset/MiningProcess_Flotation_Plant_Database.csv'\n",
    "\n",
    "df = pd.read_csv(PATH, parse_dates=['date'])\n",
    "print(\"Dataset loaded successfully!\")"
   ]
  },
  {
   "cell_type": "markdown",
   "id": "f7575cfa",
   "metadata": {},
   "source": [
    "## Basic Data Exploration"
   ]
  },
  {
   "cell_type": "code",
   "execution_count": 3,
   "id": "a1baf809",
   "metadata": {},
   "outputs": [
    {
     "name": "stdout",
     "output_type": "stream",
     "text": [
      "\n",
      "--- Data Exploration ---\n",
      "Dataset Shape: (737453, 24)\n",
      "First 5 rows:\n",
      "                 date % Iron Feed % Silica Feed Starch Flow Amina Flow  \\\n",
      "0 2017-03-10 01:00:00        55,2         16,98     3019,53    557,434   \n",
      "1 2017-03-10 01:00:00        55,2         16,98     3024,41    563,965   \n",
      "2 2017-03-10 01:00:00        55,2         16,98     3043,46    568,054   \n",
      "3 2017-03-10 01:00:00        55,2         16,98     3047,36    568,665   \n",
      "4 2017-03-10 01:00:00        55,2         16,98     3033,69    558,167   \n",
      "\n",
      "  Ore Pulp Flow Ore Pulp pH Ore Pulp Density Flotation Column 01 Air Flow  \\\n",
      "0       395,713     10,0664             1,74                      249,214   \n",
      "1       397,383     10,0672             1,74                      249,719   \n",
      "2       399,668      10,068             1,74                      249,741   \n",
      "3       397,939     10,0689             1,74                      249,917   \n",
      "4       400,254     10,0697             1,74                      250,203   \n",
      "\n",
      "  Flotation Column 02 Air Flow  ... Flotation Column 07 Air Flow  \\\n",
      "0                      253,235  ...                      250,884   \n",
      "1                      250,532  ...                      248,994   \n",
      "2                      247,874  ...                      248,071   \n",
      "3                      254,487  ...                      251,147   \n",
      "4                      252,136  ...                      248,928   \n",
      "\n",
      "  Flotation Column 01 Level Flotation Column 02 Level  \\\n",
      "0                   457,396                   432,962   \n",
      "1                   451,891                    429,56   \n",
      "2                    451,24                   468,927   \n",
      "3                   452,441                   458,165   \n",
      "4                   452,441                     452,9   \n",
      "\n",
      "  Flotation Column 03 Level Flotation Column 04 Level  \\\n",
      "0                   424,954                   443,558   \n",
      "1                   432,939                   448,086   \n",
      "2                    434,61                   449,688   \n",
      "3                   442,865                    446,21   \n",
      "4                   450,523                    453,67   \n",
      "\n",
      "  Flotation Column 05 Level Flotation Column 06 Level  \\\n",
      "0                   502,255                    446,37   \n",
      "1                   496,363                   445,922   \n",
      "2                   484,411                   447,826   \n",
      "3                   471,411                    437,69   \n",
      "4                   462,598                   443,682   \n",
      "\n",
      "  Flotation Column 07 Level % Iron Concentrate % Silica Concentrate  \n",
      "0                   523,344              66,91                 1,31  \n",
      "1                   498,075              66,91                 1,31  \n",
      "2                   458,567              66,91                 1,31  \n",
      "3                   427,669              66,91                 1,31  \n",
      "4                   425,679              66,91                 1,31  \n",
      "\n",
      "[5 rows x 24 columns]\n",
      "\n",
      "Basic Statistics:\n",
      "                                date\n",
      "count                         737453\n",
      "mean   2017-06-16 03:27:22.656549376\n",
      "min              2017-03-10 01:00:00\n",
      "25%              2017-05-04 23:00:00\n",
      "50%              2017-06-16 15:00:00\n",
      "75%              2017-07-29 07:00:00\n",
      "max              2017-09-09 23:00:00\n",
      "\n",
      "Missing Values:\n",
      "date                            0\n",
      "% Iron Feed                     0\n",
      "% Silica Feed                   0\n",
      "Starch Flow                     0\n",
      "Amina Flow                      0\n",
      "Ore Pulp Flow                   0\n",
      "Ore Pulp pH                     0\n",
      "Ore Pulp Density                0\n",
      "Flotation Column 01 Air Flow    0\n",
      "Flotation Column 02 Air Flow    0\n",
      "Flotation Column 03 Air Flow    0\n",
      "Flotation Column 04 Air Flow    0\n",
      "Flotation Column 05 Air Flow    0\n",
      "Flotation Column 06 Air Flow    0\n",
      "Flotation Column 07 Air Flow    0\n",
      "Flotation Column 01 Level       0\n",
      "Flotation Column 02 Level       0\n",
      "Flotation Column 03 Level       0\n",
      "Flotation Column 04 Level       0\n",
      "Flotation Column 05 Level       0\n",
      "Flotation Column 06 Level       0\n",
      "Flotation Column 07 Level       0\n",
      "% Iron Concentrate              0\n",
      "% Silica Concentrate            0\n",
      "dtype: int64\n",
      "Missing Values Percentage:\n",
      "date                            0.0\n",
      "% Iron Feed                     0.0\n",
      "% Silica Feed                   0.0\n",
      "Starch Flow                     0.0\n",
      "Amina Flow                      0.0\n",
      "Ore Pulp Flow                   0.0\n",
      "Ore Pulp pH                     0.0\n",
      "Ore Pulp Density                0.0\n",
      "Flotation Column 01 Air Flow    0.0\n",
      "Flotation Column 02 Air Flow    0.0\n",
      "Flotation Column 03 Air Flow    0.0\n",
      "Flotation Column 04 Air Flow    0.0\n",
      "Flotation Column 05 Air Flow    0.0\n",
      "Flotation Column 06 Air Flow    0.0\n",
      "Flotation Column 07 Air Flow    0.0\n",
      "Flotation Column 01 Level       0.0\n",
      "Flotation Column 02 Level       0.0\n",
      "Flotation Column 03 Level       0.0\n",
      "Flotation Column 04 Level       0.0\n",
      "Flotation Column 05 Level       0.0\n",
      "Flotation Column 06 Level       0.0\n",
      "Flotation Column 07 Level       0.0\n",
      "% Iron Concentrate              0.0\n",
      "% Silica Concentrate            0.0\n",
      "dtype: float64\n"
     ]
    }
   ],
   "source": [
    "print(\"\\n--- Data Exploration ---\")\n",
    "print(f\"Dataset Shape: {df.shape}\")\n",
    "print(\"First 5 rows:\")\n",
    "print(df.head())\n",
    "\n",
    "print(\"\\nBasic Statistics:\")\n",
    "print(df.describe())\n",
    "\n",
    "print(\"\\nMissing Values:\")\n",
    "missing_values = df.isnull().sum()\n",
    "print(missing_values)\n",
    "print(f\"Missing Values Percentage:\")\n",
    "print((missing_values / len(df)) * 100)"
   ]
  }
 ],
 "metadata": {
  "kernelspec": {
   "display_name": "Python 3",
   "language": "python",
   "name": "python3"
  },
  "language_info": {
   "codemirror_mode": {
    "name": "ipython",
    "version": 3
   },
   "file_extension": ".py",
   "mimetype": "text/x-python",
   "name": "python",
   "nbconvert_exporter": "python",
   "pygments_lexer": "ipython3",
   "version": "3.12.3"
  }
 },
 "nbformat": 4,
 "nbformat_minor": 5
}
