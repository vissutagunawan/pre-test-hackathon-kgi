{
 "cells": [
  {
   "cell_type": "markdown",
   "id": "bf867aea",
   "metadata": {},
   "source": [
    "# Case 2: User KGI 04"
   ]
  },
  {
   "cell_type": "markdown",
   "id": "1b71b8fd",
   "metadata": {},
   "source": [
    "## Import Dependencies"
   ]
  },
  {
   "cell_type": "code",
   "execution_count": 1,
   "id": "d36dbcd5",
   "metadata": {},
   "outputs": [],
   "source": [
    "import pandas as pd\n",
    "import os"
   ]
  },
  {
   "cell_type": "markdown",
   "id": "a81aac9f",
   "metadata": {},
   "source": [
    "## Data Loading"
   ]
  },
  {
   "cell_type": "code",
   "execution_count": 2,
   "id": "b7680f8d",
   "metadata": {},
   "outputs": [
    {
     "name": "stdout",
     "output_type": "stream",
     "text": [
      "Loaded 15_9-F-1 A.csv successfully\n",
      "Loaded 15_9-F-1 B.csv successfully\n",
      "Loaded 15_9-F-1 C.csv successfully\n",
      "Loaded 15_9-F-11 A.csv successfully\n",
      "Loaded 15_9-F-11 B.csv successfully\n",
      "Combined dataset shape: (33673, 9)\n"
     ]
    }
   ],
   "source": [
    "DATA_PATH = \"./Dataset/\"\n",
    "CSV_FILES = [\"15_9-F-1 A.csv\", \"15_9-F-1 B.csv\", \"15_9-F-1 C.csv\", \"15_9-F-11 A.csv\", \"15_9-F-11 B.csv\"]\n",
    "\n",
    "def load_data(file_paths):\n",
    "    all_data = []\n",
    "    \n",
    "    for file_path in file_paths:\n",
    "        try:\n",
    "            full_path = os.path.join(DATA_PATH, file_path)\n",
    "            df = pd.read_csv(full_path)\n",
    "            \n",
    "            well_name = os.path.basename(file_path).split('.')[0]\n",
    "            df['WELL'] = well_name\n",
    "            \n",
    "            all_data.append(df)\n",
    "            print(f\"Loaded {file_path} successfully\")\n",
    "        except FileNotFoundError:\n",
    "            print(f\"Warning: File {file_path} not found. Skipping.\")\n",
    "        except Exception as e:\n",
    "            print(f\"Error loading {file_path}: {str(e)}\")\n",
    "    \n",
    "    combined_df = pd.concat(all_data, ignore_index=True)\n",
    "    print(f\"Combined dataset shape: {combined_df.shape}\")\n",
    "    return combined_df\n",
    "\n",
    "file_paths = [os.path.join(DATA_PATH, file) for file in CSV_FILES]\n",
    "df = load_data(CSV_FILES)"
   ]
  },
  {
   "cell_type": "markdown",
   "id": "b65592dc",
   "metadata": {},
   "source": [
    "## Simple Data Exploration"
   ]
  },
  {
   "cell_type": "code",
   "execution_count": 4,
   "id": "96c78cc2",
   "metadata": {},
   "outputs": [
    {
     "name": "stdout",
     "output_type": "stream",
     "text": [
      "\n",
      "--- Data Exploration ---\n",
      "Dataset Shape: (33673, 9)\n",
      "First 5 rows:\n",
      "    DEPTH    NPHI    RHOB      GR       RT     PEF    CALI       DT  \\\n",
      "0  3100.0  0.0481  2.6067  8.3222  10.1810  7.5681  8.5781  60.6463   \n",
      "1  3100.1  0.0481  2.6061  8.5168  10.0395  7.5860  8.5781  60.6713   \n",
      "2  3100.2  0.0483  2.6063  8.3134   9.9846  7.6333  8.5781  60.7070   \n",
      "3  3100.3  0.0486  2.6078  8.6389   9.9122  7.6751  8.5781  60.7455   \n",
      "4  3100.4  0.0488  2.6091  8.2602   9.8524  7.6777  8.5781  60.7840   \n",
      "\n",
      "         WELL  \n",
      "0  15_9-F-1 A  \n",
      "1  15_9-F-1 A  \n",
      "2  15_9-F-1 A  \n",
      "3  15_9-F-1 A  \n",
      "4  15_9-F-1 A  \n",
      "\n",
      "Basic Statistics:\n",
      "              DEPTH          NPHI          RHOB            GR            RT  \\\n",
      "count  33673.000000  22814.000000  22870.000000  33489.000000  33209.000000   \n",
      "mean    3225.772028      0.183379      2.461276     41.988215    429.736408   \n",
      "std      287.753501      0.084425      0.148896     50.460093   5097.033177   \n",
      "min     2600.000000      0.042000      2.033000      0.969100      0.065000   \n",
      "25%     3030.900000      0.129000      2.330000     13.817000      1.880200   \n",
      "50%     3260.700000      0.170000      2.517850     31.768300      3.150000   \n",
      "75%     3436.300000      0.217000      2.575000     50.201000      5.291000   \n",
      "max     3761.900000      0.576100      3.051700   1124.403000  97543.422000   \n",
      "\n",
      "                PEF          CALI            DT  \n",
      "count  22870.000000  23015.000000  11482.000000  \n",
      "mean       6.646823      8.606516     79.808905  \n",
      "std        1.071451      0.079592     13.805700  \n",
      "min        4.226400      8.304900     54.280000  \n",
      "25%        5.760000      8.556900     71.229500  \n",
      "50%        6.698000      8.625000     75.624150  \n",
      "75%        7.506650      8.663700     85.176000  \n",
      "max       13.841000     10.387000    125.982700  \n",
      "\n",
      "Missing Values:\n",
      "DEPTH        0\n",
      "NPHI     10859\n",
      "RHOB     10803\n",
      "GR         184\n",
      "RT         464\n",
      "PEF      10803\n",
      "CALI     10658\n",
      "DT       22191\n",
      "WELL         0\n",
      "dtype: int64\n",
      "\n",
      "Missing Values Percentage:\n",
      "DEPTH     0.000000\n",
      "NPHI     32.248389\n",
      "RHOB     32.082084\n",
      "GR        0.546432\n",
      "RT        1.377959\n",
      "PEF      32.082084\n",
      "CALI     31.651472\n",
      "DT       65.901464\n",
      "WELL      0.000000\n",
      "dtype: float64\n"
     ]
    }
   ],
   "source": [
    "print(\"\\n--- Data Exploration ---\")\n",
    "print(f\"Dataset Shape: {df.shape}\")\n",
    "print(\"First 5 rows:\")\n",
    "print(df.head())\n",
    "\n",
    "print(\"\\nBasic Statistics:\")\n",
    "print(df.describe())\n",
    "\n",
    "print(\"\\nMissing Values:\")\n",
    "missing_values = df.isnull().sum()\n",
    "print(missing_values)\n",
    "print(f\"\\nMissing Values Percentage:\")\n",
    "print((missing_values / len(df)) * 100)"
   ]
  },
  {
   "cell_type": "code",
   "execution_count": null,
   "id": "4d96a127",
   "metadata": {},
   "outputs": [],
   "source": []
  }
 ],
 "metadata": {
  "kernelspec": {
   "display_name": "Python 3",
   "language": "python",
   "name": "python3"
  },
  "language_info": {
   "codemirror_mode": {
    "name": "ipython",
    "version": 3
   },
   "file_extension": ".py",
   "mimetype": "text/x-python",
   "name": "python",
   "nbconvert_exporter": "python",
   "pygments_lexer": "ipython3",
   "version": "3.11.9"
  }
 },
 "nbformat": 4,
 "nbformat_minor": 5
}
