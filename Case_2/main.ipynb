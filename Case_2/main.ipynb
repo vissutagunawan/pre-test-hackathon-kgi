{
 "cells": [
  {
   "cell_type": "markdown",
   "id": "bf867aea",
   "metadata": {},
   "source": [
    "# Case 2: User KGI 04"
   ]
  },
  {
   "cell_type": "markdown",
   "id": "1b71b8fd",
   "metadata": {},
   "source": [
    "## Import Dependencies"
   ]
  },
  {
   "cell_type": "code",
   "execution_count": 1,
   "id": "d36dbcd5",
   "metadata": {},
   "outputs": [],
   "source": [
    "import pandas as pd\n",
    "import os"
   ]
  },
  {
   "cell_type": "markdown",
   "id": "a81aac9f",
   "metadata": {},
   "source": [
    "## Data Loading"
   ]
  },
  {
   "cell_type": "code",
   "execution_count": 2,
   "id": "b7680f8d",
   "metadata": {},
   "outputs": [
    {
     "name": "stdout",
     "output_type": "stream",
     "text": [
      "Loaded 15_9-F-1 A.csv successfully\n",
      "Loaded 15_9-F-1 B.csv successfully\n",
      "Loaded 15_9-F-1 C.csv successfully\n",
      "Loaded 15_9-F-11 A.csv successfully\n",
      "Loaded 15_9-F-11 B.csv successfully\n",
      "Combined dataset shape: (33673, 9)\n"
     ]
    }
   ],
   "source": [
    "DATA_PATH = \"./Dataset/\"\n",
    "CSV_FILES = [\"15_9-F-1 A.csv\", \"15_9-F-1 B.csv\", \"15_9-F-1 C.csv\", \"15_9-F-11 A.csv\", \"15_9-F-11 B.csv\"]\n",
    "\n",
    "def load_data(file_paths):\n",
    "    all_data = []\n",
    "    \n",
    "    for file_path in file_paths:\n",
    "        try:\n",
    "            full_path = os.path.join(DATA_PATH, file_path)\n",
    "            df = pd.read_csv(full_path)\n",
    "            \n",
    "            well_name = os.path.basename(file_path).split('.')[0]\n",
    "            df['WELL'] = well_name\n",
    "            \n",
    "            all_data.append(df)\n",
    "            print(f\"Loaded {file_path} successfully\")\n",
    "        except FileNotFoundError:\n",
    "            print(f\"Warning: File {file_path} not found. Skipping.\")\n",
    "        except Exception as e:\n",
    "            print(f\"Error loading {file_path}: {str(e)}\")\n",
    "    \n",
    "    combined_df = pd.concat(all_data, ignore_index=True)\n",
    "    print(f\"Combined dataset shape: {combined_df.shape}\")\n",
    "    return combined_df\n",
    "\n",
    "file_paths = [os.path.join(DATA_PATH, file) for file in CSV_FILES]\n",
    "df = load_data(CSV_FILES)"
   ]
  },
  {
   "cell_type": "code",
   "execution_count": null,
   "id": "96c78cc2",
   "metadata": {},
   "outputs": [],
   "source": []
  }
 ],
 "metadata": {
  "kernelspec": {
   "display_name": "Python 3",
   "language": "python",
   "name": "python3"
  },
  "language_info": {
   "codemirror_mode": {
    "name": "ipython",
    "version": 3
   },
   "file_extension": ".py",
   "mimetype": "text/x-python",
   "name": "python",
   "nbconvert_exporter": "python",
   "pygments_lexer": "ipython3",
   "version": "3.11.9"
  }
 },
 "nbformat": 4,
 "nbformat_minor": 5
}
