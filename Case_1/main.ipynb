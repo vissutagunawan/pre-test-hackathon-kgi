{
 "cells": [
  {
   "cell_type": "markdown",
   "id": "3c543f28",
   "metadata": {},
   "source": [
    "# Case 1: User KGI 04"
   ]
  },
  {
   "cell_type": "markdown",
   "id": "d59be84e",
   "metadata": {},
   "source": [
    "## Import Dependencies"
   ]
  },
  {
   "cell_type": "code",
   "execution_count": null,
   "id": "b5d7798f",
   "metadata": {},
   "outputs": [],
   "source": [
    "import pandas as pd\n",
    "import warnings\n",
    "warnings.filterwarnings('ignore')"
   ]
  },
  {
   "cell_type": "markdown",
   "id": "e405f26f",
   "metadata": {},
   "source": [
    "## Data Loading"
   ]
  },
  {
   "cell_type": "code",
   "execution_count": 3,
   "id": "579f8706",
   "metadata": {},
   "outputs": [],
   "source": [
    "PATH = './Dataset/unconv_MV.csv'\n",
    "\n",
    "df = pd.read_csv(PATH)"
   ]
  },
  {
   "cell_type": "markdown",
   "id": "261f25e0",
   "metadata": {},
   "source": [
    "## Simple Data Exploration"
   ]
  },
  {
   "cell_type": "code",
   "execution_count": 4,
   "id": "c983acd3",
   "metadata": {},
   "outputs": [
    {
     "name": "stdout",
     "output_type": "stream",
     "text": [
      "\n",
      "--- Data Exploration ---\n",
      "Dataset Shape: (1000, 8)\n",
      "First 5 rows:\n",
      "   WellIndex    Por  LogPerm    AI  Brittle   TOC    VR   Production\n",
      "0          1  15.91     1.67  3.06    14.05  1.36  1.85   177.381958\n",
      "1          2  15.34     1.65  2.60    31.88  1.37  1.79  1479.767778\n",
      "2          3  20.45     2.02  3.13    63.67  1.79  2.53  4421.221583\n",
      "3          4  11.95     1.14  3.90    58.81  0.40  2.03  1488.317629\n",
      "4          5  19.53     1.83  2.57    43.75  1.40  2.11  5261.094919\n",
      "\n",
      "Basic Statistics:\n",
      "         WellIndex          Por      LogPerm           AI      Brittle  \\\n",
      "count  1000.000000  1000.000000  1000.000000  1000.000000  1000.000000   \n",
      "mean    500.500000    14.950460     1.398880     2.982610    49.719480   \n",
      "std     288.819436     3.029634     0.405966     0.577629    15.077006   \n",
      "min       1.000000     5.400000     0.120000     0.960000   -10.500000   \n",
      "25%     250.750000    12.857500     1.130000     2.577500    39.722500   \n",
      "50%     500.500000    14.985000     1.390000     3.010000    49.680000   \n",
      "75%     750.250000    17.080000     1.680000     3.360000    59.170000   \n",
      "max    1000.000000    24.650000     2.580000     4.700000    93.470000   \n",
      "\n",
      "               TOC           VR    Production  \n",
      "count  1000.000000  1000.000000   1000.000000  \n",
      "mean      1.003810     1.991170   2247.295809  \n",
      "std       0.504978     0.308194   1464.256312  \n",
      "min      -0.260000     0.900000      2.713535  \n",
      "25%       0.640000     1.810000   1191.369560  \n",
      "50%       0.995000     2.000000   1976.487820  \n",
      "75%       1.360000     2.172500   3023.594214  \n",
      "max       2.710000     2.900000  12568.644130  \n",
      "\n",
      "Missing Values:\n",
      "WellIndex     0\n",
      "Por           0\n",
      "LogPerm       0\n",
      "AI            0\n",
      "Brittle       0\n",
      "TOC           0\n",
      "VR            0\n",
      "Production    0\n",
      "dtype: int64\n"
     ]
    }
   ],
   "source": [
    "print(\"\\n--- Data Exploration ---\")\n",
    "print(f\"Dataset Shape: {df.shape}\")\n",
    "print(\"First 5 rows:\")\n",
    "print(df.head())\n",
    "\n",
    "print(\"\\nBasic Statistics:\")\n",
    "print(df.describe())\n",
    "\n",
    "print(\"\\nMissing Values:\")\n",
    "print(df.isnull().sum())"
   ]
  },
  {
   "cell_type": "markdown",
   "id": "5215dc78",
   "metadata": {},
   "source": []
  },
  {
   "cell_type": "code",
   "execution_count": null,
   "id": "1c1cf9d1",
   "metadata": {},
   "outputs": [],
   "source": []
  },
  {
   "cell_type": "markdown",
   "id": "a497b896",
   "metadata": {},
   "source": []
  }
 ],
 "metadata": {
  "kernelspec": {
   "display_name": "Python 3",
   "language": "python",
   "name": "python3"
  },
  "language_info": {
   "codemirror_mode": {
    "name": "ipython",
    "version": 3
   },
   "file_extension": ".py",
   "mimetype": "text/x-python",
   "name": "python",
   "nbconvert_exporter": "python",
   "pygments_lexer": "ipython3",
   "version": "3.11.9"
  }
 },
 "nbformat": 4,
 "nbformat_minor": 5
}
